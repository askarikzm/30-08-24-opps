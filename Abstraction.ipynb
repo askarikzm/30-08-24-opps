{
 "cells": [
  {
   "cell_type": "markdown",
   "metadata": {},
   "source": [
    "# abstraction"
   ]
  },
  {
   "cell_type": "markdown",
   "metadata": {},
   "source": [
    "1. What is abstraction in Python, and how does it relate to object-oriented programming?\n",
    "abstractiob is property in opps programming language in which skeleton/struct/base is design.It is used to make a ghost and inhertied class of it make it compulsory add behavoiur"
   ]
  },
  {
   "cell_type": "markdown",
   "metadata": {},
   "source": [
    "2. Describe the benefits of abstraction in terms of code organization and complexity reduction.\n",
    "it help to make a base/skeleton of code and make developer to work on a spcific methood of class and allow to divide work flow in a team\n",
    "allow maintainability in our code \n",
    "encapsulation ,inhertience,scalibilty,abstratcion layer "
   ]
  },
  {
   "cell_type": "code",
   "execution_count": 5,
   "metadata": {},
   "outputs": [
    {
     "name": "stdout",
     "output_type": "stream",
     "text": [
      "628\n"
     ]
    },
    {
     "data": {
      "text/plain": [
       "200"
      ]
     },
     "execution_count": 5,
     "metadata": {},
     "output_type": "execute_result"
    }
   ],
   "source": [
    "#3. Create a Python class called `Shape` with an abstract method `calculate_area()`. \n",
    "#Then, create child classes (e.g., `Circle`, `Rectangle`) that implement the `calculate_area()` method. \n",
    "#Provide an example of using these classes.\n",
    "from abc import ABC,abstractmethod\n",
    "from math import pi\n",
    "class shape:\n",
    "    @abstractmethod\n",
    "    def calculate_area(self):\n",
    "        pass\n",
    "class rectangle(shape):\n",
    "    def __init__(self,l,w) -> None:\n",
    "       self.__l=l\n",
    "       self.__w=w\n",
    "\n",
    "    def calculate_area(self):\n",
    "        return self.__l*self.__w\n",
    "class circle(shape):\n",
    "    def __init__(self,r) -> None:\n",
    "       self.__r=r\n",
    "\n",
    "    def calculate_area(self):\n",
    "        return int(2*pi*self.__r**2)\n",
    "    \n",
    "c1=circle(10)\n",
    "r1=rectangle(10,20)\n",
    "# instances\n",
    "print(c1.calculate_area())\n",
    "r1.calculate_area()\n"
   ]
  },
  {
   "cell_type": "markdown",
   "metadata": {},
   "source": [
    "# 4. Explain the concept of abstract classes in Python and how they are defined using the `abc` module. Provide an example.\n",
    "abstarct classes are ghost classes just methoods prototype are given and implementation of it is not provided python doesnot have inbuilt abstract classes for we use abc module and use respected function decoeratotr"
   ]
  },
  {
   "cell_type": "markdown",
   "metadata": {},
   "source": [
    "# 5. How do abstract classes differ from regular classes in Python? Discuss their use cases.\n",
    "they are not a properly defined implemented classes they are just a protype or a blueprint they are used to divide coding task in project to make a structure. they provide resulibilty,documentation,clarity,promoting resuibilty in a code . "
   ]
  },
  {
   "cell_type": "code",
   "execution_count": 16,
   "metadata": {},
   "outputs": [
    {
     "data": {
      "text/plain": [
       "1000"
      ]
     },
     "execution_count": 16,
     "metadata": {},
     "output_type": "execute_result"
    }
   ],
   "source": [
    "# 6. Create a Python class for a bank account and demonstrate abstraction by hiding the account balance and providing methods to \n",
    "#deposit and withdraw funds.\n",
    "from abc import ABC,abstractclassmethod\n",
    "class bank:\n",
    "    @abstractmethod\n",
    "    def withdraw(self):\n",
    "        pass\n",
    "    @abstractmethod\n",
    "    def deposit(self):\n",
    "        pass\n",
    "    @abstractmethod\n",
    "    def show(self):\n",
    "        pass\n",
    "class user(bank):\n",
    "    def __init__(self,balance,name) -> None:\n",
    "        self.__name=name\n",
    "        self.__balance=balance\n",
    "\n",
    "    def withdraw(self,l):\n",
    "        self.__balance-=l\n",
    "        return self.__balance\n",
    "    \n",
    "    def deposit(self,b):\n",
    "        self.__balance+=b\n",
    "\n",
    "    def show(self):\n",
    "        return self.__balance\n",
    "\n",
    "user1=user(1000,'askari')\n",
    "user1.deposit(100)\n",
    "user1.withdraw(100)\n",
    "user1.show()"
   ]
  },
  {
   "cell_type": "code",
   "execution_count": 17,
   "metadata": {},
   "outputs": [
    {
     "name": "stdout",
     "output_type": "stream",
     "text": [
      "cat eat cat food\n",
      "dog like's to sleep on balcany\n",
      "None None\n"
     ]
    }
   ],
   "source": [
    "# 8. Create a Python class hierarchy for animals and implement abstraction by defining common methods (e.g., `eat()`, `sleep()`) in an abstract base class.\n",
    "from abc import ABC,abstractmethod\n",
    "class animal:\n",
    "    @abstractmethod\n",
    "    def eat(self):\n",
    "        pass\n",
    "    \n",
    "    @abstractmethod\n",
    "    def sleep(self):\n",
    "        pass\n",
    "\n",
    "class cat(animal):\n",
    "    def eat(self):\n",
    "        print(\"cat eat cat food\")\n",
    "\n",
    "    def sleep(self):\n",
    "        print(\"cat like to sleep on couch\")\n",
    "\n",
    "class dog(animal):\n",
    "    def eat(self):\n",
    "        print(\"dog eat dog food\")\n",
    "\n",
    "    def sleep(self):\n",
    "        print(\"dog like's to sleep on balcany\")\n",
    "\n",
    "c1=cat()\n",
    "d1=dog()\n",
    "print(c1.eat(),d1.sleep())"
   ]
  },
  {
   "cell_type": "code",
   "execution_count": 4,
   "metadata": {},
   "outputs": [
    {
     "name": "stdout",
     "output_type": "stream",
     "text": [
      "start your car\n"
     ]
    },
    {
     "data": {
      "text/plain": [
       "'car mode:cd-70 car make:honda car year manfacture2023'"
      ]
     },
     "execution_count": 4,
     "metadata": {},
     "output_type": "execute_result"
    }
   ],
   "source": [
    "# 11. Create a Python class for a vehicle system and \n",
    "#demonstrate abstraction by defining common methods (e.g., `start()`, `stop()`) in an abstract base class.\n",
    "from abc import ABC,abstractmethod\n",
    "class vehicle:\n",
    "    def __init__(self, make, model, year):\n",
    "        self._make = make\n",
    "        self._model = model\n",
    "        self._year = year\n",
    "    @abstractmethod\n",
    "    def start(self):\n",
    "        pass\n",
    "    @abstractmethod\n",
    "    def stop(self):\n",
    "        pass\n",
    "class car(vehicle):\n",
    "    def __init__(self, make, model, year):\n",
    "        super().__init__(make, model, year)\n",
    "\n",
    "    def start(self):\n",
    "        print(\"start your car\")\n",
    "\n",
    "    def stop(self):\n",
    "        return f\"car mode:{self._model} car make:{self._make} car year manfacture{self._year}\"\n",
    "    \n",
    "car1=car('honda','cd-70',2023)\n",
    "car1.start()\n",
    "car1.stop()\n"
   ]
  },
  {
   "cell_type": "code",
   "execution_count": 7,
   "metadata": {},
   "outputs": [
    {
     "name": "stdout",
     "output_type": "stream",
     "text": [
      " \n",
      "name:ahmad and salary:900000 \n",
      "name:askari and salary:80000\n",
      "name:usman and salary:7000\n",
      "\n"
     ]
    }
   ],
   "source": [
    "# 13. Create a Python class hierarchy for employees in a company (e.g., manager, developer, designer) \n",
    "#and implement abstraction by defining a common `get_salary()` method.\n",
    "from abc import abstractmethod \n",
    "class employees:\n",
    " @abstractmethod\n",
    " def get_salary(self):\n",
    "    pass\n",
    " \n",
    " @abstractmethod\n",
    " def show_salary(self):\n",
    "  pass\n",
    "\n",
    "class manger(employees):\n",
    "  def __init__(self,name) -> None:\n",
    "    self.__name=name\n",
    "\n",
    "  def get_salary(self,sal):\n",
    "   self.__salary=sal\n",
    "\n",
    "  def show_salary(self):\n",
    "   return f'name:{self.__name} and salary:{self.__salary}'\n",
    "  \n",
    "class designer(employees):\n",
    "  def __init__(self,name) -> None:\n",
    "    self.__name=name\n",
    "\n",
    "  def get_salary(self,sal):\n",
    "   self.__salary=sal\n",
    "\n",
    "  def show_salary(self):\n",
    "   return f'name:{self.__name} and salary:{self.__salary}'\n",
    "  \n",
    "class developer(employees):\n",
    "  def __init__(self,name) -> None:\n",
    "    self.__name=name\n",
    "\n",
    "  def get_salary(self,sal):\n",
    "   self.__salary=sal\n",
    "\n",
    "  def show_salary(self):\n",
    "   return f'name:{self.__name} and salary:{self.__salary}'\n",
    "\n",
    "\n",
    "\n",
    "m1=manger('usman')\n",
    "m1.get_salary(7000)\n",
    "d1=developer('askari')\n",
    "d1.get_salary(80000)\n",
    "dg1=designer('ahmad')\n",
    "dg1.get_salary(900000)\n",
    "print(f''' \n",
    "{dg1.show_salary()} DESIGNER\n",
    "{d1.show_salary()} DEVELOPER\n",
    "{m1.show_salary()} MANGER\n",
    "''')\n",
    "    "
   ]
  },
  {
   "cell_type": "code",
   "execution_count": 9,
   "metadata": {},
   "outputs": [
    {
     "data": {
      "text/plain": [
       "'BOOK NAME :DSA WITH C++ BOOK ID :233286 BORROW DATE :19-11-2022 BOOK ISSUE:21-12-2023'"
      ]
     },
     "execution_count": 9,
     "metadata": {},
     "output_type": "execute_result"
    }
   ],
   "source": [
    "# 19. Create a Python class for a library system, implementing abstraction by defining common methods (e.g., `add_book()`, `borrow_book()`)\n",
    "# in an abstract base class.\n",
    "from abc import abstractmethod\n",
    "class library:\n",
    " @abstractmethod\n",
    " def add_book(self):\n",
    "  pass\n",
    "  \n",
    "  @abstractmethod\n",
    "  def show_book(self):\n",
    "   pass \n",
    "  \n",
    "   @abstractmethod\n",
    "   def book_type(self):\n",
    "    pass \n",
    "class book:\n",
    " def __init__(self,name,book_Id,borrow_date,issue_date) -> None:\n",
    "       self.__name=name\n",
    "       self.__book_id=book_Id\n",
    "       self.__borrow_date=borrow_date\n",
    "       self.__issue_date=issue_date\n",
    "\n",
    " def show_book(self):\n",
    "  return f'book name :{self.__name} book ID :{self.__book_id} borrow date :{self.__borrow_date} book issue:{self.__issue_date}'.upper()\n",
    "\n",
    "b1=book('DSA WITH C++',233286,'19-11-2022','21-12-2023')\n",
    "b1.show_book()"
   ]
  },
  {
   "cell_type": "code",
   "execution_count": 11,
   "metadata": {},
   "outputs": [
    {
     "data": {
      "text/plain": [
       "2.4"
      ]
     },
     "execution_count": 11,
     "metadata": {},
     "output_type": "execute_result"
    }
   ],
   "source": [
    "# 16. Create a Python class for a computer system, demonstrating abstraction by defining common methods \n",
    "#(e.g., `power_on()`, `shutdown()`) in an abstract base class.\n",
    "from abc import ABC,abstractmethod\n",
    "class computersystem:\n",
    "    @abstractmethod\n",
    "    def power_on(self):\n",
    "        pass\n",
    "\n",
    "    @abstractmethod\n",
    "    def shutdown(self):\n",
    "        pass\n",
    "\n",
    "class pc(computersystem):\n",
    "    def __init__(self,name) -> None:\n",
    "        self.__name=name\n",
    "        \n",
    "    def power_on(self,time):\n",
    "     self.__time=time\n",
    "\n",
    "    def shutdown(self,time):\n",
    "        self.__time_s=time\n",
    "\n",
    "    def boot_time(self):\n",
    "        return self.__time_s-self.__time\n",
    "    \n",
    "p1=pc('DELL INSPIRON 10')\n",
    "p1.power_on(0.1)\n",
    "p1.shutdown(2.5)\n",
    "p1.boot_time()"
   ]
  },
  {
   "cell_type": "markdown",
   "metadata": {},
   "source": [
    "18. Explain how abstraction enhances code reusability and modularity in Python programs.\n",
    "abstraction with a ghost class can be extremely useful when creating a hirechail model for a specific class aur just to showcase how the class attributes and methoods will be used this enhances the code reusability and modularity in a program"
   ]
  },
  {
   "cell_type": "markdown",
   "metadata": {},
   "source": [
    "# 15. Explain the concept of abstract data types (ADTs) and their role in achieving abstraction in Python.\n",
    "Abstract Data Types (ADTs) in Python are a way of organizing and managing data structures based on their behavior and properties, rather than their implementation details. They provide a high-level interface for interacting with data, allowing users to perform operations without needing to understand how those operations are implemented."
   ]
  },
  {
   "cell_type": "markdown",
   "metadata": {},
   "source": [
    "# 17. Discuss the benefits of using abstraction in large-scale software development projects.\n",
    "abstraction is very useful when working on a larger scale projects  it ensure a developer to add certain features inside a class to this is just like a mannual a protype or blueprint is defined and it will override inside a inherieted class"
   ]
  },
  {
   "cell_type": "markdown",
   "metadata": {},
   "source": [
    "# 14. Discuss the differences between abstract classes and concrete classes in Python, including their instantiation.\n",
    "abstract class are just a protype the user doesnot understand what is happenning behind the backup of it while calling a function or a methood whereas conrete class consist of real function and it is implications this a proper working class."
   ]
  },
  {
   "cell_type": "markdown",
   "metadata": {},
   "source": [
    "# 10. What is the purpose of abstract methods, and how do they enforce abstraction in Python classes?\n",
    "abstract methoods make compulsory to make a specific methoods and attributes when it is inherited by sub class this is very useful when class and sub classes have similarites but diferrent implemntations"
   ]
  },
  {
   "cell_type": "markdown",
   "metadata": {},
   "source": [
    "#  7. Discuss the concept of interface classes in Python and their role in achieving abstraction.\n",
    "In Python, interface classes are classes that define a set of methods or properties without providing any implementation details. They serve as blueprints or templates for other classes to follow, specifying what methods must be implemented by any concrete subclass. Interface classes play a crucial role in achieving abstraction by allowing developers to define a common interface that multiple classes can adhere to, without dictating how those classes are implemented internally."
   ]
  },
  {
   "cell_type": "markdown",
   "metadata": {},
   "source": [
    "# 20. Describe the concept of method abstraction in Python and how it relates to polymorphism.\n",
    "abstraction is very useful when creating ghost class and with the abc and using asbtract class it help function override (run time polymorphism dynamic )\n",
    "it also help exposing a specific information for a methood\n",
    "Method abstraction and polymorphism are closely related in Python. By defining abstract methods in abstract base classes, you can enforce a consistent interface across multiple subclasses. Each subclass can then implement the abstract methods according to its specific requirements, providing different implementations while adhering to the same interface."
   ]
  }
 ],
 "metadata": {
  "kernelspec": {
   "display_name": "Python 3",
   "language": "python",
   "name": "python3"
  },
  "language_info": {
   "codemirror_mode": {
    "name": "ipython",
    "version": 3
   },
   "file_extension": ".py",
   "mimetype": "text/x-python",
   "name": "python",
   "nbconvert_exporter": "python",
   "pygments_lexer": "ipython3",
   "version": "3.9.6"
  }
 },
 "nbformat": 4,
 "nbformat_minor": 2
}
