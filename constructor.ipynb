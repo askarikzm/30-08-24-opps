{
 "cells": [
  {
   "cell_type": "markdown",
   "metadata": {},
   "source": [
    "# opps based assingment \n",
    "# Topic no 1:"
   ]
  },
  {
   "cell_type": "markdown",
   "metadata": {},
   "source": [
    "# constructer"
   ]
  },
  {
   "cell_type": "markdown",
   "metadata": {},
   "source": [
    "1. What is a constructor in Python? Explain its purpose and usage.\n",
    "ans:contructer is a type of dunder methood or specail feature which invokes itself when a class is called via object"
   ]
  },
  {
   "cell_type": "markdown",
   "metadata": {},
   "source": [
    "2. . Differentiate between a parameterless constructor and a parameterized constructor in Python.\n",
    "ans. parameterless constructor consist of no paramter \n",
    "parameterized consturctot cosist of paramter it is not invoked until the all the parms are passed to it ."
   ]
  },
  {
   "cell_type": "code",
   "execution_count": 3,
   "metadata": {},
   "outputs": [
    {
     "name": "stdout",
     "output_type": "stream",
     "text": [
      "I AM A CONSTRUCTOR\n"
     ]
    }
   ],
   "source": [
    "# . How do you define a constructor in a Python class? Provide an example.\n",
    "class hello:\n",
    "    def __init__(self) -> None:\n",
    "        print(\"i am a constructor\".upper())\n",
    "\n",
    "obj1=hello()"
   ]
  },
  {
   "cell_type": "markdown",
   "metadata": {},
   "source": [
    ". Explain the `__init__` method in Python and its role in constructors.\n",
    "ans: __ int __ is dunder methood that call itself whenever the class is called\n",
    "it role is to intailize some values or to get neccessory input from user to meet the requiremnts of class"
   ]
  },
  {
   "cell_type": "code",
   "execution_count": 2,
   "metadata": {},
   "outputs": [
    {
     "name": "stdout",
     "output_type": "stream",
     "text": [
      "your name is askari and  age is 19\n"
     ]
    }
   ],
   "source": [
    "# 5. In a class named `Person`, create a constructor that initializes the `name` and `age` attributes. Provide an example of creating an object of this class.\n",
    "# 5. In a class named `Person`, create a constructor that initializes the `name` and `age` attributes. Provide an example of creating an object of this class.\n",
    "class person:\n",
    "   def __init__(self,name,age) :\n",
    "     self.person_age=age\n",
    "     self.person_name=name\n",
    "     \n",
    "   def data(self):\n",
    "       print(f\"your name is {self.person_name} and  age is {self.person_age}\")\n",
    "\n",
    "obj1=person(\"askari\",19)\n",
    "obj1.data()\n"
   ]
  },
  {
   "cell_type": "code",
   "execution_count": 6,
   "metadata": {},
   "outputs": [
    {
     "name": "stdout",
     "output_type": "stream",
     "text": [
      "10\n"
     ]
    }
   ],
   "source": [
    "# 6. How can you call a constructor explicitly in Python? Give an example.\n",
    "# In Python, an explicit constructor refers to defining a constructor method (__init__ method) explicitly within a class definition. The constructor method is called when an instance of the class is created.\n",
    "class wake:\n",
    "    def __init__(self,time) -> None:\n",
    "        self.time_h=time\n",
    "        print(self.time_h)\n",
    "        \n",
    "obj2=wake(10)"
   ]
  },
  {
   "cell_type": "code",
   "execution_count": 10,
   "metadata": {},
   "outputs": [
    {
     "name": "stdout",
     "output_type": "stream",
     "text": [
      "20\n",
      "Width and length must be integers.\n"
     ]
    }
   ],
   "source": [
    "# 9 .Create a Python class called `Rectangle` with a constructor that initializes the `width` and `height` attributes. Provide a method to calculate the area of the rectangle\n",
    "class Rectangle:\n",
    "    def __init__(self,width:int,length:int) -> None:\n",
    "        \"\"\"_summary_\n",
    "         when a class is created it is always get invoked raised value error\n",
    "         if value of width or height is zero\n",
    "        Args:\n",
    "            width (int): _ enter width preferable in integer_ \n",
    "            length (int): _ enter length preferable in integer_\n",
    "\n",
    "        Raises:\n",
    "            ValueError: _if value of width or height is zero_\n",
    "\n",
    "        Returns:\n",
    "            NONE\n",
    "        \"\"\"\n",
    "        try: \n",
    "          if isinstance(width, int) and isinstance(length, int):\n",
    "                if width > 0 and length > 0:\n",
    "                    self.width_rec = width\n",
    "                    self.length_rec = length\n",
    "                else:\n",
    "                    raise ValueError(\"Rectangle width and height must be greater than zero.\")\n",
    "          else:\n",
    "                raise TypeError(\"Width and length must be integers.\")\n",
    "        except (ValueError, TypeError) as e:\n",
    "            print(e)\n",
    "    \n",
    "   \n",
    "    def area_rec(self)->int:\n",
    "        \"\"\"_summary_\n",
    "        return area of a triangle by getting it length and width\n",
    "        from class constructor/attribut\n",
    "\n",
    "        Returns:\n",
    "            int: _description_\n",
    "        \"\"\"\n",
    "        area=self.width_rec*self.length_rec\n",
    "        return area\n",
    "\n",
    "rec1=Rectangle(4,5)\n",
    "print(rec1.area_rec())\n",
    "rec2=Rectangle(\"shhs\",\"kks\")"
   ]
  },
  {
   "cell_type": "code",
   "execution_count": 8,
   "metadata": {},
   "outputs": [
    {
     "name": "stdout",
     "output_type": "stream",
     "text": [
      "mango\n"
     ]
    }
   ],
   "source": [
    "# 7. What is the significance of the `self` parameter in Python constructors? Explain with an example.\n",
    "# self is just a keyword it work as an pointer to bind all data of a object \n",
    "class fruit:\n",
    "    def __init__(askari,name) -> None:# creating pointer of my name \n",
    "        askari.fruit_name=name \n",
    "    \n",
    "    def print_d(askari):\n",
    "        print(askari.fruit_name)\n",
    "\n",
    "fruit1=fruit(\"mango\")\n",
    "fruit1.print_d()"
   ]
  },
  {
   "cell_type": "code",
   "execution_count": null,
   "metadata": {},
   "outputs": [],
   "source": [
    "#8. Discuss the concept of default constructors in Python. When are they used?\n",
    "#This default constructor doesn't do much except create an instance of the class. \n",
    "#It doesn't initialize any attributes or perform any specific initialization tasks."
   ]
  },
  {
   "cell_type": "code",
   "execution_count": 29,
   "metadata": {},
   "outputs": [
    {
     "name": "stdout",
     "output_type": "stream",
     "text": [
      "4\n"
     ]
    },
    {
     "data": {
      "text/plain": [
       "(5, 8)"
      ]
     },
     "execution_count": 29,
     "metadata": {},
     "output_type": "execute_result"
    }
   ],
   "source": [
    "# 10. How can you have multiple constructors in a Python class? Explain with an example.\n",
    "class add:\n",
    "    def __init__(self,x1,x2) -> None:\n",
    "        self.x1=x1\n",
    "        self.x2=x2\n",
    "\n",
    "    @classmethod\n",
    "    def addtwo(self,x1,x2):\n",
    "        return x1+x2\n",
    "    \n",
    "    @classmethod\n",
    "    def add1(self,other,other1):\n",
    "        return other1.x1+other.x1,other1.x2+other.x2\n",
    "\n",
    "two=add(1,3) \n",
    "print(two.addtwo(1,3))\n",
    "three=add(4,5)\n",
    "one=add(0,0)\n",
    "one.add1(two,three)"
   ]
  },
  {
   "cell_type": "code",
   "execution_count": null,
   "metadata": {},
   "outputs": [],
   "source": [
    "#11.11. What is method overloading, and how is it related to constructors in Python?\n",
    "#\"ad-hoc polymorphism\" or \"duck typing.\"\n",
    "class add:\n",
    "    def __init__(self,x1,x2) -> None:\n",
    "        self.x1=x1\n",
    "        self.x2=x2\n",
    "\n",
    "    @classmethod\n",
    "    def addtwo(self,x1,x2):\n",
    "        return x1+x2\n",
    "    \n",
    "    @classmethod\n",
    "    def add1(self,other,other1):\n",
    "        return other1.x1+other.x1,other1.x2+other.x2\n",
    "\n",
    "two=add(1,3) \n",
    "print(two.addtwo(1,3))\n",
    "three=add(4,5)\n",
    "one=add(0,0)\n",
    "one.add1(two,three)"
   ]
  },
  {
   "cell_type": "code",
   "execution_count": 40,
   "metadata": {},
   "outputs": [
    {
     "name": "stdout",
     "output_type": "stream",
     "text": [
      "askari and 20 sub-class\n",
      "askari and 20 parent-class1\n"
     ]
    }
   ],
   "source": [
    "# 12. Explain the use of the `super()` function in Python constructors. Provide an example.\n",
    "# main purpose of super function accessing methoods define in parent class and intalize parent constructer\n",
    "# it is used to avoid diamond problem in multi inheritence and insuare compiler both are same\n",
    "class parent:\n",
    "    def __init__(self,name,age) -> None:\n",
    "        self.name=name\n",
    "        self.age=age\n",
    "\n",
    "    def show(self):\n",
    "        print(f\"{self.name} and {self.age} parent-class\")\n",
    "\n",
    "class parent1:\n",
    "    def __init__(self,name,age) -> None:\n",
    "        self.name=name\n",
    "        self.age=age\n",
    "\n",
    "    def show(self):\n",
    "        print(f\"{self.name} and {self.age} parent-class1\")\n",
    "\n",
    "class sub(parent1,parent):# priority will given to first class\n",
    "    def __init__(self,name,age) -> None:\n",
    "        self.name=name\n",
    "        self.age=age\n",
    "\n",
    "    def parent_super(self):\n",
    "        super().__init__(self.name,self.age)\n",
    "        super().show()\n",
    "    \n",
    "    def show(self):\n",
    "      print(f\"{self.name} and {self.age} sub-class\")\n",
    "\n",
    "wow1=sub(\"askari\",20)\n",
    "wow1.show()\n",
    "wow1.parent_super()\n"
   ]
  },
  {
   "cell_type": "code",
   "execution_count": 52,
   "metadata": {},
   "outputs": [
    {
     "name": "stdout",
     "output_type": "stream",
     "text": [
      " author name bjane startupwith c++\n",
      " published date2023\n"
     ]
    }
   ],
   "source": [
    "# 13. Create a class called `Book` with a constructor that initializes the `title`, `author`, and `published_year` attributes. \n",
    "#Provide a method to display book details.\n",
    "class book:\n",
    "    def __init__(self,title,author,published_year) -> None:\n",
    "        self.tile=title\n",
    "        self.author=author\n",
    "        self.published_year=published_year\n",
    "        \"\"\"summary \n",
    "        a class consturcter consist of 3 attributes title,author and published year\n",
    "        \"\"\"\n",
    "\n",
    "    def show(self):\n",
    "        print(f\"\\rbook name {self.tile}\\n author name {self.author}\\n published date{self.published_year}\")\n",
    "\n",
    "book1=book(\"getting started with c++\",\"bjane startup\",2023)\n",
    "book1.show()"
   ]
  },
  {
   "cell_type": "markdown",
   "metadata": {},
   "source": [
    "# 14. Discuss the differences between constructors and regular methods in Python classes.\n",
    "\n",
    "constructor invoke every time when obj of class created necessory to pass data in it and regular methood is invoke only when it is being called by obj"
   ]
  },
  {
   "cell_type": "markdown",
   "metadata": {},
   "source": [
    "# 15  Explain the role of the `self` parameter in instance variable initialization within a constructor.\n",
    "self paramter bind the data of a object and work as a pointer it can be used to intiliaze the the variable and bind to class attributes it also help object to work with class attributes and behaviour"
   ]
  },
  {
   "cell_type": "code",
   "execution_count": 61,
   "metadata": {},
   "outputs": [
    {
     "name": "stdout",
     "output_type": "stream",
     "text": [
      "413160\n"
     ]
    }
   ],
   "source": [
    "#16. How do you prevent a class from having multiple instances by using constructors in Python? Provide an example.\n",
    "class add:\n",
    "    def __init__(self,*args):\n",
    "        print(sum(args))\n",
    "    \n",
    "\n",
    "one=add(10,20,373737,39393)"
   ]
  },
  {
   "cell_type": "code",
   "execution_count": 72,
   "metadata": {},
   "outputs": [
    {
     "name": "stdout",
     "output_type": "stream",
     "text": [
      "askari of student marks in phy 75,chem 75,english 75 and bio 75\n",
      "300\n"
     ]
    },
    {
     "data": {
      "text/plain": [
       "'75.0%'"
      ]
     },
     "execution_count": 72,
     "metadata": {},
     "output_type": "execute_result"
    }
   ],
   "source": [
    "#17. Create a Python class called `Student` with a constructor that takes a list of subjects as a parameter and initializes the `subjects` attribute.\n",
    "class student:\n",
    "    def __init__(self,name,subj1,subj2,subj3,subj5) -> None:\n",
    "        self._phy=subj1\n",
    "        self._name=name\n",
    "        self._chem=subj2\n",
    "        self._english=subj3\n",
    "        self._bio=subj5\n",
    "    \n",
    "    def show_details(self):\n",
    "        print(f\"{self._name} of student marks in phy {self._phy},chem {self._chem},english {self._english} and bio {self._bio}\")\n",
    "\n",
    "    def total_marks(self):\n",
    "        self.l=(self._phy,self._chem,self._english,self._bio)\n",
    "        print(sum(self.l))\n",
    "    \n",
    "    def percentage(self):\n",
    "       self.total_marks=sum(self.l)\n",
    "       return str((self.total_marks/400)*100)+\"%\"\n",
    "\n",
    "askari=student(\"askari\",75,75,75,75)\n",
    "askari.show_details()\n",
    "askari.total_marks()\n",
    "askari.percentage()\n"
   ]
  },
  {
   "cell_type": "code",
   "execution_count": 79,
   "metadata": {},
   "outputs": [
    {
     "name": "stdout",
     "output_type": "stream",
     "text": [
      "destructer is invoked auto\n",
      "name 'rec1' is not defined\n"
     ]
    }
   ],
   "source": [
    "# 18. What is the purpose of the `__del__` method in Python classes, and how does it relate to constructors?\n",
    "# used to del the obj of a class in python it is called destructer and specail feature in python it also known as dunder methoods\n",
    "# it invoke it self when class is created and delte it \n",
    "class area:\n",
    "    def __init__(self,lenght,breath) -> None:\n",
    "        self.length=lenght\n",
    "        self.breath=breath\n",
    "\n",
    "\n",
    "    def show(self):\n",
    "        return self.length*self.breath\n",
    "    \n",
    "    def __del__(self):\n",
    "        print(\"destructer is invoked auto\")\n",
    "\n",
    "rec=area(10,20)\n",
    "try:\n",
    " rec1.length # garbage value mangement and it is unable to access it\n",
    "except Exception as e:\n",
    "   print(e)         "
   ]
  },
  {
   "cell_type": "code",
   "execution_count": 80,
   "metadata": {},
   "outputs": [
    {
     "name": "stdout",
     "output_type": "stream",
     "text": [
      "askari and 10 parent class\n"
     ]
    }
   ],
   "source": [
    "#19. Explain the use of constructor chaining in Python. Provide a practical example.\n",
    "# using a super function to call the constructer of parent class\n",
    "class parent:\n",
    "    def __init__(self,name,age) -> None:\n",
    "     print(f'{name} and {age} parent class')\n",
    "\n",
    "class child(parent):\n",
    "   def __init__(self, name, age) -> None:\n",
    "      super().__init__(name, age)\n",
    "\n",
    "class child1(child):\n",
    "   def __init__(self, name, age) -> None:\n",
    "      super().__init__(name, age)\n",
    "\n",
    "ok=child1(\"askari\",10)"
   ]
  },
  {
   "cell_type": "code",
   "execution_count": 81,
   "metadata": {},
   "outputs": [
    {
     "name": "stdout",
     "output_type": "stream",
     "text": [
      "your car model is mehran and model is mehran \n",
      " your car are \"SPECS \" seadn ,130kmph,mehran,6 seats\n"
     ]
    }
   ],
   "source": [
    "# Create a Python class called `Car` with a default constructor that initializes the `make` and `model` attributes. Provide a method to display car information.\n",
    "class car:\n",
    "  \n",
    "  def __init__(self,make:int,model:str) -> None:\n",
    "     self.car_make=make\n",
    "     self.car_model=model\n",
    "     \"\"\"_summary_\n",
    "         enter your class make and model of your car\n",
    "     \"\"\"\n",
    "    \n",
    "  def add_detail(self)->None:\n",
    "     self.car_category=input(\"enter your car category\")\n",
    "     self.car_seats=int(input(\"enter the number of seats of car\"))\n",
    "     self.car_max_speed=int(input(\"enter the maximium speed of your car\"))\n",
    "     self.car_transmission_type=input(\"enter your car transmission type\")\n",
    "     \"\"\"_function used to enter details and specs of your car_\n",
    "      \"\"\"\n",
    "\n",
    "  def show_details(self)->None:\n",
    "      \"\"\"         _Print your cars specs_\n",
    "      \"\"\"\n",
    "      print(f\"your car model is {self.car_model} and model is {self.car_model} \\n your car are \\\"SPECS \\\" {self.car_category} ,{self.car_max_speed}kmph,{self.car_model},{self.car_seats} seats\")\n",
    "\n",
    "car1=car(2004,\"mehran\")\n",
    "car1.add_detail()\n",
    "car1.show_details()"
   ]
  }
 ],
 "metadata": {
  "kernelspec": {
   "display_name": "Python 3",
   "language": "python",
   "name": "python3"
  },
  "language_info": {
   "codemirror_mode": {
    "name": "ipython",
    "version": 3
   },
   "file_extension": ".py",
   "mimetype": "text/x-python",
   "name": "python",
   "nbconvert_exporter": "python",
   "pygments_lexer": "ipython3",
   "version": "3.9.6"
  }
 },
 "nbformat": 4,
 "nbformat_minor": 2
}
