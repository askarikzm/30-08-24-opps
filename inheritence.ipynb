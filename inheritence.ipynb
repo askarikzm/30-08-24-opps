{
 "cells": [
  {
   "cell_type": "markdown",
   "metadata": {},
   "source": [
    "# inheritence"
   ]
  },
  {
   "cell_type": "markdown",
   "metadata": {},
   "source": [
    "# 1. What is inheritance in Python? Explain its significance in object-oriented programming.\n",
    "iheritence is the property in opp programming language that a class can able to access methood and attributes of another .it is very useful it give structure to code and avoid repetion of code"
   ]
  },
  {
   "cell_type": "code",
   "execution_count": 11,
   "metadata": {},
   "outputs": [
    {
     "name": "stdout",
     "output_type": "stream",
     "text": [
      "mother\n",
      "mother\n",
      "father\n"
     ]
    }
   ],
   "source": [
    "#2. Differentiate between single inheritance and multiple inheritance in Python. Provide examples for each.\n",
    "class mother:\n",
    "    def __init__(self) -> None:\n",
    "        pass\n",
    "\n",
    "    def show(self):\n",
    "        print(\"mother\")\n",
    "\n",
    "class father:\n",
    "    def __init__(self) -> None:\n",
    "        pass\n",
    "\n",
    "    def show2(self):\n",
    "        print(\"father\")\n",
    "\n",
    "class child(mother):# single inheritence \n",
    "    def hello(self,wow):\n",
    "        print(wow)\n",
    "\n",
    "class child2(mother,father):#multi-inheritence\n",
    "    def wow():\n",
    "        print(\"hmm\")\n",
    "\n",
    "c2=child2()\n",
    "c1=child()\n",
    "c1.show() #mother\n",
    "c2.show()  #mother\n",
    "c2.show2() #father"
   ]
  },
  {
   "cell_type": "code",
   "execution_count": 14,
   "metadata": {},
   "outputs": [
    {
     "name": "stdout",
     "output_type": "stream",
     "text": [
      "car details are red 120 BMW\n"
     ]
    }
   ],
   "source": [
    "# 3. Create a Python class called `Vehicle` with attributes `color` and `speed`. \n",
    "#Then, create a child class called `Car` that inherits from `Vehicle` and adds a `brand` attribute. \n",
    "#Provide an example of creating a `Car` object.\n",
    "class vehicle:\n",
    "    def __init__(self) -> None:\n",
    "        self._color=\"\"\n",
    "        self._speed=0\n",
    "\n",
    "    def add_data(self):\n",
    "        self._color=input(\"enter color of your car\")\n",
    "        self._speed=int(input(\"enter speed of your car\"))\n",
    "\n",
    "class car(vehicle):\n",
    "    def __init__(self,brand) -> None:\n",
    "        self.brand=brand\n",
    "        super().add_data()\n",
    "\n",
    "    def show_data(self):\n",
    "        print(f\"car details are {self._color} {self._speed} {self.brand}\")\n",
    "\n",
    "c1=car(\"BMW\")\n",
    "c1.show_data()\n"
   ]
  },
  {
   "cell_type": "code",
   "execution_count": 15,
   "metadata": {},
   "outputs": [
    {
     "name": "stdout",
     "output_type": "stream",
     "text": [
      "i am data science student\n",
      "i am big data student\n"
     ]
    }
   ],
   "source": [
    "# 4. Explain the concept of method overriding in inheritance. Provide a practical example.\n",
    "# methood overriding is based upon class respected methood is said to be called\n",
    "class datascience:\n",
    "    def student(self):\n",
    "        print(\"i am data science student\")\n",
    "class bigdata(datascience):\n",
    "  def student(self):\n",
    "        print(\"i am big data student\")\n",
    "\n",
    "askari=datascience()\n",
    "kzm=bigdata()\n",
    "askari.student() #methood overriding\n",
    "kzm.student()"
   ]
  },
  {
   "cell_type": "code",
   "execution_count": 21,
   "metadata": {},
   "outputs": [
    {
     "data": {
      "text/plain": [
       "'motherfather'"
      ]
     },
     "execution_count": 21,
     "metadata": {},
     "output_type": "execute_result"
    }
   ],
   "source": [
    "# 5. How can you access the methods and attributes of a parent class from a child class in Python? Give an example.\n",
    "class parent:\n",
    "    def __init__(self) -> None:\n",
    "        self._name=\"father\"\n",
    "\n",
    "class child(parent):\n",
    "    def data2(self,namef):\n",
    "        return namef+self._name\n",
    "    \n",
    "child1=child()\n",
    "child1.data2(\"mother\")"
   ]
  },
  {
   "cell_type": "code",
   "execution_count": 23,
   "metadata": {},
   "outputs": [
    {
     "name": "stdout",
     "output_type": "stream",
     "text": [
      "zoo\n",
      "askari\n",
      "good morning from parent class\n"
     ]
    },
    {
     "data": {
      "text/plain": [
       "'good morning from child class'"
      ]
     },
     "execution_count": 23,
     "metadata": {},
     "output_type": "execute_result"
    }
   ],
   "source": [
    "#6. Discuss the use of the `super()` function in Python inheritance. \n",
    "#When and why is it used? Provide an example.\n",
    "# super function is used to get the methood from a parent class when there is a clash between methood name\n",
    "# calling a parent constructor through child class\n",
    "#scenerio 1\n",
    "class parent:\n",
    "    def __init__(self,name) -> None:\n",
    "        name=\"zoo\" #overwriten\n",
    "        print(name)\n",
    "\n",
    "class child(parent):\n",
    "    def __init__(self, name) -> None:\n",
    "        super().__init__(name)\n",
    "        print(name)\n",
    "#scenerio 2\n",
    "class parent1:\n",
    "    def greet(self):\n",
    "        print(\"good morning from parent class\")\n",
    "\n",
    "class child1(parent1):\n",
    "    def greet(self):\n",
    "        super().greet()\n",
    "        return \"good morning from child class\"\n",
    "    \n",
    "askari=child(\"askari\")\n",
    "kzm=child1()\n",
    "kzm.greet()"
   ]
  },
  {
   "cell_type": "code",
   "execution_count": 30,
   "metadata": {},
   "outputs": [
    {
     "name": "stdout",
     "output_type": "stream",
     "text": [
      "meow\n",
      "boo\n",
      "None \t None\n"
     ]
    },
    {
     "data": {
      "text/plain": [
       "True"
      ]
     },
     "execution_count": 30,
     "metadata": {},
     "output_type": "execute_result"
    }
   ],
   "source": [
    "# 7. Create a Python class called `Animal` with a method `speak()`.\n",
    "#Then, create child classes `Dog` and `Cat` that inherit from `Animal` \n",
    "#and override the `speak()` method. Provide an example of using these classes.\n",
    "class animal:\n",
    "    def __init__(self) -> None:\n",
    "        self.op=\"animal\"\n",
    "\n",
    "    def speak(self,sound):\n",
    "        self.op=sound\n",
    "        print(self.op)\n",
    "\n",
    "class dog(animal):\n",
    "    def __init__(self) -> None:\n",
    "        self.sound=\"boo\"\n",
    "\n",
    "    def speak(self):\n",
    "        super().speak(self.sound)\n",
    "\n",
    "class cat(animal):\n",
    "    def __init__(self) -> None:\n",
    "        self.sound=\"meow\"\n",
    "\n",
    "    def speak(self):\n",
    "        super().speak(self.sound)\n",
    "\n",
    "cat1=cat()\n",
    "dog1=dog()\n",
    "print(cat1.speak(),\"\\t\",dog1.speak())\n"
   ]
  },
  {
   "cell_type": "code",
   "execution_count": 26,
   "metadata": {},
   "outputs": [
    {
     "data": {
      "text/plain": [
       "True"
      ]
     },
     "execution_count": 26,
     "metadata": {},
     "output_type": "execute_result"
    }
   ],
   "source": [
    "# 8. Explain the role of the `isinstance()` function in Python and how it relates to inheritance.\n",
    "# isinstance() return true if  a obj is  instance of class or subclass\n",
    "# in inheritence you can check wether a obj is instance of sub class or super class"
   ]
  },
  {
   "cell_type": "code",
   "execution_count": 34,
   "metadata": {},
   "outputs": [
    {
     "data": {
      "text/plain": [
       "False"
      ]
     },
     "execution_count": 34,
     "metadata": {},
     "output_type": "execute_result"
    }
   ],
   "source": [
    "#9. What is the purpose of the `issubclass()` function in Python? Provide an example.\n",
    "# issubclass() take two arguments and return true/false if a sub class is inherited methoods\n",
    "# attributes from super class then return true else false\n",
    "class animal:\n",
    "    def __init__(self) -> None:\n",
    "        self.op=\"animal\"\n",
    "\n",
    "    def speak(self,sound):\n",
    "        self.op=sound\n",
    "        print(self.op)\n",
    "\n",
    "class dog(animal):\n",
    "    def __init__(self) -> None:\n",
    "        self.sound=\"boo\"\n",
    "\n",
    "    def speak(self):\n",
    "        super().speak(self.sound)\n",
    "\n",
    "issubclass(animal,dog) # true :)"
   ]
  },
  {
   "cell_type": "code",
   "execution_count": 36,
   "metadata": {},
   "outputs": [
    {
     "name": "stdout",
     "output_type": "stream",
     "text": [
      "yes\n",
      "askari\n"
     ]
    }
   ],
   "source": [
    "#10. Discuss the concept of constructor inheritance in Python. How are constructors inherited in child classes?\n",
    "# chaining constructor can be used to to inherit a constructor from parent via super function\n",
    "class parent:\n",
    "    def __init__(self,name) -> None:\n",
    "        name=\"yes\"\n",
    "        print(name)\n",
    "\n",
    "class child(parent):\n",
    "    def __init__(self, name) -> None:\n",
    "        super().__init__(name)\n",
    "        print(name)\n",
    "\n",
    "askari=child(\"askari\")"
   ]
  },
  {
   "cell_type": "code",
   "execution_count": 42,
   "metadata": {},
   "outputs": [
    {
     "name": "stdout",
     "output_type": "stream",
     "text": [
      "Area of rectangle: 20\n",
      "Area of circle: 28.274333882308138\n"
     ]
    }
   ],
   "source": [
    "from math import pi\n",
    "\n",
    "class Shape:\n",
    "    def area(self):\n",
    "        pass  \n",
    "class Rectangle(Shape):\n",
    "    def __init__(self, length, width):\n",
    "        self.length = length\n",
    "        self.width = width\n",
    "\n",
    "    def area(self):\n",
    "        return self.length * self.width\n",
    "\n",
    "class Circle(Shape):\n",
    "    def __init__(self, radius):\n",
    "        self.radius = radius\n",
    "\n",
    "    def area(self):\n",
    "        return pi * self.radius ** 2\n",
    "\n",
    "\n",
    "rectangle = Rectangle(4, 5)\n",
    "circle = Circle(3)\n",
    "\n",
    "print(\"Area of rectangle:\", rectangle.area())  \n",
    "print(\"Area of circle:\", circle.area())        \n"
   ]
  },
  {
   "cell_type": "code",
   "execution_count": 54,
   "metadata": {},
   "outputs": [
    {
     "name": "stdout",
     "output_type": "stream",
     "text": [
      "100   40\n",
      "157.07963267948966   31.41592653589793\n"
     ]
    }
   ],
   "source": [
    "# 12. Explain the use of abstract base classes (ABCs) in Python and how they relate to inheritance. Provide an example using the `abc` module.\n",
    "from abc import ABC,abstractclassmethod\n",
    "from math import pi\n",
    "class shape(ABC): #concrete class\n",
    "    @abstractclassmethod\n",
    "    def area(self):\n",
    "        pass\n",
    "    \n",
    "    @abstractclassmethod\n",
    "    def perimeter(self):\n",
    "        pass\n",
    "\n",
    "class circle(shape):\n",
    "    def __init__(self,r) -> None:\n",
    "        self.radius=r\n",
    "    \n",
    "    def area(self):\n",
    "        return 2*pi*self.radius**2\n",
    "    \n",
    "    def perimeter(self):\n",
    "        return 2*pi*self.radius\n",
    "    \n",
    "class rectangle(shape):\n",
    "    def __init__(self,l,b) -> None:\n",
    "        self.len=l\n",
    "        self.bre=b\n",
    "\n",
    "    def area(self):\n",
    "        return self.len*self.bre\n",
    "    \n",
    "    def perimeter(self):\n",
    "        return 2*(self.len+self.bre)\n",
    "    \n",
    "r1=rectangle(10,10)\n",
    "c1=circle(5)\n",
    "print(r1.area(),\" \",r1.perimeter())\n",
    "print(c1.area(),\" \",c1.perimeter())"
   ]
  },
  {
   "cell_type": "code",
   "execution_count": null,
   "metadata": {},
   "outputs": [],
   "source": [
    "#3. How can you prevent a child class from modifying certain attributes or methods inherited from a parent class in Python?\n",
    "# by making it private"
   ]
  },
  {
   "cell_type": "code",
   "execution_count": 57,
   "metadata": {},
   "outputs": [
    {
     "name": "stdout",
     "output_type": "stream",
     "text": [
      "cs sabir 500\n"
     ]
    }
   ],
   "source": [
    "#14. Create a Python class called `Employee` with attributes `name` and `salary`.\n",
    "# Then, create a child class `Manager` that inherits from `Employee` and adds an attribute `department`. \n",
    "#Provide an example\n",
    "class employee:\n",
    "    def __init__(self,name,salary) -> None:\n",
    "        self.e_salary=salary\n",
    "        self.e_name=name\n",
    "\n",
    "class manger(employee):\n",
    "    def __init__(self,dep,name,salary) -> None:\n",
    "        self.dep=dep\n",
    "        super().__init__(name,salary)\n",
    "\n",
    "    def show(self):\n",
    "        print(self.dep,self.e_name,self.e_salary)\n",
    "\n",
    "sabir=manger(dep=\"cs\",salary=500,name=\"sabir\")\n",
    "sabir.show()"
   ]
  },
  {
   "cell_type": "code",
   "execution_count": 62,
   "metadata": {},
   "outputs": [
    {
     "name": "stdout",
     "output_type": "stream",
     "text": [
      "20\n",
      "223\n"
     ]
    }
   ],
   "source": [
    "#15. Discuss the concept of method overloading in Python inheritance. How does it differ from method overriding\n",
    "# in methood overloading based on parms the methood response exp\n",
    "class add1:\n",
    "    def add(self,x,x1):\n",
    "        return x+x1\n",
    "    \n",
    "    def add(self,x,x1,x2):\n",
    "        return x+x1+x2\n",
    "    \n",
    "    def add(self,*args):\n",
    "        return sum(args)\n",
    "    \n",
    "one=add1()\n",
    "print(one.add(10,10))\n",
    "print(one.add(10,11,12,12,161,17))"
   ]
  },
  {
   "cell_type": "code",
   "execution_count": null,
   "metadata": {},
   "outputs": [],
   "source": [
    "# 16. Explain the purpose of the `__init__()` method in Python inheritance and how it is utilized in child classes.\n",
    "# it can used in a child class to inovke the parent class dunder methood/specail feature using super() function"
   ]
  },
  {
   "cell_type": "code",
   "execution_count": 63,
   "metadata": {},
   "outputs": [
    {
     "name": "stdout",
     "output_type": "stream",
     "text": [
      "7km/h   herbivore   small\n",
      "120kph   carnivore   big-wild\n"
     ]
    }
   ],
   "source": [
    "# 17. Create a Python class called `Bird` with a method `fly()`.\n",
    "# Then, create child classes `Eagle` and `Sparrow` that inherit from `Bird` and implement the `fly()` method differently.\n",
    "# Provide an example of using these classes.\n",
    "class bird:\n",
    "    def __init__(self) -> None:\n",
    "        self.speed=0\n",
    "        self.type=\"null\"\n",
    "        self.size=\"null\"\n",
    "        pass\n",
    "\n",
    "    def fly(self):\n",
    "        print(self.speed,\" \",self.type,\" \",self.size)\n",
    "\n",
    "class eagle(bird):\n",
    "    def __init__(self) -> None:\n",
    "        self.speed=\"120kph\"\n",
    "        self.size=\"big-wild\"\n",
    "        self.type=\"carnivore\"\n",
    "        self.fly()\n",
    "\n",
    "class sparrow(bird):\n",
    "    def __init__(self) -> None:\n",
    "        self.speed=\"7km/h\"\n",
    "        self.size=\"small\"\n",
    "        self.type=\"herbivore\"\n",
    "        self.fly()\n",
    "\n",
    "sp=sparrow()\n",
    "eg=eagle()"
   ]
  },
  {
   "cell_type": "code",
   "execution_count": null,
   "metadata": {},
   "outputs": [],
   "source": [
    "# 18. What is the \"diamond problem\" in multiple inheritance, and how does Python address it?\n",
    "# it occurs when two when a sub class inherit metoods and attributes from two different super classes but the super-classes\n",
    "# have same ancester class when methood/function called from ancestor class diamond problem occurrs\n",
    "# compiler confused via which super class call it but in python priotriy is given to class\n",
    "# which is writeen first after child class"
   ]
  },
  {
   "cell_type": "code",
   "execution_count": null,
   "metadata": {},
   "outputs": [],
   "source": [
    "# Inheritance (is-a relationship) represents an \"is a kind of\" relationship between classes, where one class inherits from another to share its behavior and attributes.\n",
    "#Composition (has-a relationship) represents a \"has a component\" relationship between classes, where one class contains an instance of another class as one of its attributes to \n",
    "#leverage its functionality."
   ]
  },
  {
   "cell_type": "code",
   "execution_count": 6,
   "metadata": {},
   "outputs": [
    {
     "name": "stdout",
     "output_type": "stream",
     "text": [
      "Student details:\n",
      "Name: askari\n",
      "Age: 20\n",
      "Email: askari@example.com\n",
      "Student ID: 1234\n",
      "Course: Computer Science\n",
      "\n",
      "Professor details:\n",
      "Name: Dr. sudh\n",
      "Age: 40\n",
      "Email: sudh@example.com\n",
      "Name: Dr. sudh, Post: Professor, Degree: MS-CS\n"
     ]
    }
   ],
   "source": [
    "class Person:\n",
    "    def __init__(self, name, age, email):\n",
    "        self.name = name\n",
    "        self.age = age\n",
    "        self.email = email\n",
    "\n",
    "class Student(Person):\n",
    "    def __init__(self, name, age, email, student_id, course):\n",
    "        super().__init__(name, age, email)\n",
    "        self.student_id = student_id\n",
    "        self.course = course\n",
    "\n",
    "class Professor(Person):\n",
    "    def __init__(self, name, age, email, post, degree):\n",
    "        super().__init__(name, age, email)\n",
    "        self.post = post\n",
    "        self.degree = degree\n",
    "\n",
    "    def show(self):\n",
    "        print(f\"Name: {self.name}, Post: {self.post}, Degree: {self.degree}\")\n",
    "\n",
    "# Example usage\n",
    "student1 = Student(\"askari\", 20, \"askari@example.com\", 1234, \"Computer Science\")\n",
    "professor1 = Professor(\"Dr. sudh\", 40, \"sudh@example.com\", \"Professor\", \"MS-CS\")\n",
    "\n",
    "print(\"Student details:\")\n",
    "print(\"Name:\", student1.name)\n",
    "print(\"Age:\", student1.age)\n",
    "print(\"Email:\", student1.email)\n",
    "print(\"Student ID:\", student1.student_id)\n",
    "print(\"Course:\", student1.course)\n",
    "\n",
    "print(\"\\nProfessor details:\")\n",
    "print(\"Name:\", professor1.name)\n",
    "print(\"Age:\", professor1.age)\n",
    "print(\"Email:\", professor1.email)\n",
    "professor1.show()\n"
   ]
  }
 ],
 "metadata": {
  "kernelspec": {
   "display_name": "Python 3",
   "language": "python",
   "name": "python3"
  },
  "language_info": {
   "codemirror_mode": {
    "name": "ipython",
    "version": 3
   },
   "file_extension": ".py",
   "mimetype": "text/x-python",
   "name": "python",
   "nbconvert_exporter": "python",
   "pygments_lexer": "ipython3",
   "version": "3.9.6"
  }
 },
 "nbformat": 4,
 "nbformat_minor": 2
}
