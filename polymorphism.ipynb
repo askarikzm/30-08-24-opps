{
 "cells": [
  {
   "cell_type": "markdown",
   "metadata": {},
   "source": [
    "# polymorphism: \n",
    "poly mean many morphism form it generic way of code write once use many\n",
    "in lyman terms polymorphism allow you use a single methood or function for multiple different opreation based upon its inputs and type of data opreates it"
   ]
  },
  {
   "cell_type": "markdown",
   "metadata": {},
   "source": [
    "compile time and run time polymorphism are two fundemental concept of of objected programming languages\n",
    "# compile time polymorphism:\n",
    "also known as static polymorphism or early binding\n",
    "resolved during compile time \n",
    "achieved through methood overloading and opreator overloading\n",
    "methood overloading involes same methoods name but different params\n",
    "the compiler detemeine which one to call\n",
    "# run time polymorphism:\n",
    "also known as dynamic polymorphism or late binding resolved run time\n",
    "achived through methood overriding and virtual function\n",
    "virtual function/abstract function are written in based class\n",
    "and overriden in drived class"
   ]
  },
  {
   "cell_type": "code",
   "execution_count": 5,
   "metadata": {},
   "outputs": [
    {
     "data": {
      "text/plain": [
       "75"
      ]
     },
     "execution_count": 5,
     "metadata": {},
     "output_type": "execute_result"
    }
   ],
   "source": [
    "# 3. Create a Python class hierarchy for shapes (e.g., circle, square, triangle) and \n",
    "#demonstrate polymorphism through a common method, such as `calculate_area()`.\n",
    "from abc import ABC,abstractmethod\n",
    "from math import pi\n",
    "class shape:\n",
    "    @abstractmethod\n",
    "    def area(self):\n",
    "        pass\n",
    "class circle(shape):\n",
    "    def __init__(self,radius) -> None:\n",
    "        self.__circle_r=radius\n",
    "\n",
    "    def area(self):\n",
    "        return 2*pi*self.__circle_r**2\n",
    "    \n",
    "class rectangle(shape):\n",
    "        def __init__(self,len,bre) -> None:\n",
    "         self.__len_r=len\n",
    "         self.__bre=bre\n",
    "\n",
    "        def area(self):\n",
    "         return self.__len_r*self.__bre\n",
    "        \n",
    "class triangle(shape):\n",
    "     def __init__(self,height,base) -> None:\n",
    "      self.__height_t=height\n",
    "      self.__base_t=base\n",
    "\n",
    "     def area(self):\n",
    "        return round(0.5*self.__base_t*self.__height_t)\n",
    "    \n",
    "shp1=triangle(10,15)\n",
    "shp1.area()"
   ]
  },
  {
   "cell_type": "markdown",
   "metadata": {},
   "source": [
    " # 4. Explain the concept of method overriding in polymorphism. \n",
    "# Provide an example.\n",
    "methood overriding mean a abstract methood is defined on a super class\n",
    "and in sub class same methood is implemented this allow us from run time polymorphism it is decide on based upon object type\n",
    "methood overriding allow different behaviors for methods across subclasses while maintaining a common interface defined in the superclass."
   ]
  },
  {
   "cell_type": "code",
   "execution_count": 6,
   "metadata": {},
   "outputs": [
    {
     "name": "stdout",
     "output_type": "stream",
     "text": [
      "meow\n",
      "bark\n",
      "animal\n",
      "None None None\n"
     ]
    }
   ],
   "source": [
    "#4\n",
    "class animal:\n",
    "    def sound(self):\n",
    "        print(\"animal\")\n",
    "\n",
    "class dog(animal):\n",
    "    def sound(self):\n",
    "        print(\"bark\")\n",
    "\n",
    "class cat(animal):\n",
    "    def sound(self):\n",
    "        print(\"meow\")\n",
    "\n",
    "c1=cat()\n",
    "d1=dog()\n",
    "a1=animal()\n",
    "print(c1.sound(),d1.sound(),a1.sound())"
   ]
  },
  {
   "cell_type": "code",
   "execution_count": 8,
   "metadata": {},
   "outputs": [
    {
     "name": "stdout",
     "output_type": "stream",
     "text": [
      "meow\n",
      "bark\n",
      "animal\n",
      "None None None\n",
      "12   10\n"
     ]
    }
   ],
   "source": [
    "#5. How is polymorphism different from method overloading in Python? \n",
    "#Provide examples for both.\n",
    "# polymorphism allow us to call a methood based upon its behaviour whereas function overloading\n",
    "# is just calling a same function based upon different parms it is a compile time polymorphism\n",
    "# function overloading is a type of compile time polymorphism in polymorphism\n",
    "def sum_n(n1,n2):\n",
    "    return n1+n2\n",
    "\n",
    "def sum_n(n1,*args):\n",
    "    return sum(args)+n1\n",
    "\n",
    "class animal:\n",
    "    def sound(self):\n",
    "        print(\"animal\")\n",
    "\n",
    "class dog(animal):\n",
    "    def sound(self):\n",
    "        print(\"bark\")\n",
    "\n",
    "class cat(animal):\n",
    "    def sound(self):\n",
    "        print(\"meow\")\n",
    "\n",
    "c1=cat()\n",
    "d1=dog()\n",
    "a1=animal()\n",
    "print(c1.sound(),d1.sound(),a1.sound()) # function overriding\n",
    "print(sum_n(4,4,4),\" \",sum_n(4,+6)) # function overloading"
   ]
  },
  {
   "cell_type": "code",
   "execution_count": 11,
   "metadata": {},
   "outputs": [
    {
     "name": "stdout",
     "output_type": "stream",
     "text": [
      "meow\n",
      "bark\n",
      "animal\n",
      "hmm!\n",
      "None None None None\n"
     ]
    }
   ],
   "source": [
    "#6. Create a Python class called `Animal` with a method `speak()`. \n",
    "#Then, create child classes like `Dog`, `Cat`, and `Bird`, each with their own `speak()` method.\n",
    "# Demonstrate polymorphism by calling the `speak()` method on objects of different subclasses.\n",
    "class animal:\n",
    "    def speak(self):\n",
    "        print(\"animal\")\n",
    "\n",
    "class dog(animal):\n",
    "    def speak(self):\n",
    "        print(\"bark\")\n",
    "\n",
    "class cat(animal):\n",
    "    def speak(self):\n",
    "        print(\"meow\")\n",
    "\n",
    "class bird(animal):\n",
    "    def speak(self):\n",
    "        print(\"hmm!\")\n",
    "\n",
    "\n",
    "c1=cat()\n",
    "d1=dog()\n",
    "a1=animal()\n",
    "b1=bird()\n",
    "print(c1.speak(),d1.speak(),a1.speak(),b1.speak())"
   ]
  },
  {
   "cell_type": "code",
   "execution_count": 15,
   "metadata": {},
   "outputs": [
    {
     "name": "stdout",
     "output_type": "stream",
     "text": [
      "MALE\n",
      "FEMALE\n",
      "None   None\n"
     ]
    }
   ],
   "source": [
    "# 7. Discuss the use of abstract methods and classes in achieving polymorphism in Python. \n",
    "#Provide an example using the `abc` module.\n",
    "from abc import ABC,abstractmethod\n",
    "class person:\n",
    "    def __init__(self) -> None:\n",
    "     pass\n",
    "    \n",
    "    @classmethod\n",
    "    def show(self):\n",
    "       pass\n",
    "\n",
    "class male(person):\n",
    "   def __init__(self) -> None:\n",
    "      pass\n",
    "   \n",
    "   def show(self):\n",
    "      print(\"male\".upper())\n",
    "\n",
    "class female(person):\n",
    "    def __init__(self) -> None:\n",
    "      pass\n",
    "   \n",
    "    def show(self):\n",
    "      print(\"female\".upper())\n",
    "m1=male()\n",
    "f1=female()\n",
    "print(m1.show(),\" \",f1.show())"
   ]
  },
  {
   "cell_type": "code",
   "execution_count": 22,
   "metadata": {},
   "outputs": [
    {
     "name": "stdout",
     "output_type": "stream",
     "text": [
      " i am vechile\n",
      " i am a boat\n",
      " i am a bycycle\n",
      " i am a car\n",
      "None \n",
      " None \n",
      " None \n",
      " None\n"
     ]
    },
    {
     "data": {
      "text/plain": [
       "True"
      ]
     },
     "execution_count": 22,
     "metadata": {},
     "output_type": "execute_result"
    }
   ],
   "source": [
    "# 8. Create a Python class hierarchy for a vehicle system (e.g., car, bicycle, boat) \n",
    "#and implement a polymorphic `start()` method that prints a message specific to each vehicle type.\n",
    "class vehicle:\n",
    "    def start(self):\n",
    "        print(\" i am vechile\")\n",
    "\n",
    "class car(vehicle):\n",
    "    def start(self):\n",
    "        print(\" i am a car\")\n",
    "\n",
    "class bycycle(vehicle):\n",
    "    def start(self):\n",
    "        print(\" i am a bycycle\")\n",
    "\n",
    "class boat(vehicle):\n",
    "    def start(self):\n",
    "        print(\" i am a boat\")\n",
    "\n",
    "\n",
    "v1=vehicle()\n",
    "b1=boat()\n",
    "by1=bycycle()\n",
    "c1=car()\n",
    "print(v1.start(),\"\\n\",b1.start(),\"\\n\",by1.start(),\"\\n\",c1.start())"
   ]
  },
  {
   "cell_type": "markdown",
   "metadata": {},
   "source": [
    "# 9. Explain the significance of the `isinstance()` and `issubclass()` functions in Python polymorphism.\n",
    "the isinstance() function checks if an object belongs to a specific class or if it belongs to a subclass of that class.\n",
    "# Syntax: isinstance(object, classinfo)\n",
    "return true if a object belong to a specific class\n",
    "# significance in polymorphism:\n",
    "Allows for dynamic type checking during runtime.\n",
    "Enables writing code that can handle objects of different types in a flexible manner.\n",
    "the issubclass check wether a subclass is drived from a specific superclass or not in simple check inheritence\n",
    "# syntax : issubclass(superclass,subclass)\n",
    "# significance:\n",
    "Allows for checking class relationships and inheritance hierarchy.\n",
    "Enables determining if a class can be treated polymorphically as another class or interface.\n"
   ]
  },
  {
   "cell_type": "code",
   "execution_count": 23,
   "metadata": {},
   "outputs": [
    {
     "data": {
      "text/plain": [
       "200"
      ]
     },
     "execution_count": 23,
     "metadata": {},
     "output_type": "execute_result"
    }
   ],
   "source": [
    "#10. What is the role of the `@abstractmethod` decorator in achieving polymorphism in Python? \n",
    "# Provide an example.\n",
    "# it provide a blueprint of a sub class it consist of a prototype only\n",
    "# they are defined only in abstract class or interfernce overriden by concerte class\n",
    "from abc import abstractmethod\n",
    "class shape:\n",
    "    @abstractmethod\n",
    "    class shape:\n",
    "        def area(self):\n",
    "            pass\n",
    "\n",
    "class rec(shape):\n",
    "    def __init__(self,l,b) -> None:\n",
    "        self.l=l\n",
    "        self.b=b\n",
    "\n",
    "    def area(self):\n",
    "        return self.l*self.b\n",
    "\n",
    "r1=rec(10,20)\n",
    "r1.area()"
   ]
  },
  {
   "cell_type": "code",
   "execution_count": 24,
   "metadata": {},
   "outputs": [
    {
     "data": {
      "text/plain": [
       "75"
      ]
     },
     "execution_count": 24,
     "metadata": {},
     "output_type": "execute_result"
    }
   ],
   "source": [
    "# 11. Create a Python class called `Shape` with a polymorphic method `area()` that calculates the area of different shapes (e.g., circle, rectangle, triangle).\n",
    "from abc import ABC,abstractmethod\n",
    "from math import pi\n",
    "class shape:\n",
    "    @abstractmethod\n",
    "    def area(self):\n",
    "        pass\n",
    "class circle(shape):\n",
    "    def __init__(self,radius) -> None:\n",
    "        self.__circle_r=radius\n",
    "\n",
    "    def area(self):\n",
    "        return 2*pi*self.__circle_r**2\n",
    "    \n",
    "class rectangle(shape):\n",
    "        def __init__(self,len,bre) -> None:\n",
    "         self.__len_r=len\n",
    "         self.__bre=bre\n",
    "\n",
    "        def area(self):\n",
    "         return self.__len_r*self.__bre\n",
    "        \n",
    "class triangle(shape):\n",
    "     def __init__(self,height,base) -> None:\n",
    "      self.__height_t=height\n",
    "      self.__base_t=base\n",
    "\n",
    "     def area(self):\n",
    "        return round(0.5*self.__base_t*self.__height_t)\n",
    "    \n",
    "shp1=triangle(10,15)\n",
    "shp1.area()"
   ]
  },
  {
   "cell_type": "markdown",
   "metadata": {},
   "source": [
    "# 12. Discuss the benefits of polymorphism in terms of code reusability and flexibility in Python programs.\n",
    "polymorphism allow us to make a generic code based upon object type and make a bundle of subclasses to superclass this provide flexixibilty through compile time and run time and in term of resusability Polymorphism encourages code reuse by promoting the reuse of existing code through inheritance and interface implementation.\n",
    "Common behaviors and functionalities can be encapsulated in superclass implementations or abstract interfaces, which can then be inherited or implemented by multiple subclasses.\n",
    "Subclasses can reuse and extend the behavior of their superclass, reducing redundancy and promoting the DRY (Don't Repeat Yourself) principle."
   ]
  },
  {
   "cell_type": "code",
   "execution_count": 25,
   "metadata": {},
   "outputs": [
    {
     "name": "stdout",
     "output_type": "stream",
     "text": [
      "PARENT CLASS\n",
      "I AM CHILD CLASS\n"
     ]
    }
   ],
   "source": [
    "# 13. Explain the use of the `super()` function in Python polymorphism. How does it help call methods of parent classes?\n",
    "class parent:\n",
    "    def __init__(self) -> None:\n",
    "        print(\"parent class\".upper())\n",
    "\n",
    "class chid(parent):\n",
    "    def __init__(self) -> None:\n",
    "        super().__init__()\n",
    "        print(\"i am child class\".upper())\n",
    "c1=chid()\n",
    "# superfunction can help us to call constructor of parent class  and its methoods"
   ]
  },
  {
   "cell_type": "code",
   "execution_count": 29,
   "metadata": {},
   "outputs": [],
   "source": [
    "#14. Create a Python class hierarchy for a banking system with various account types (e.g., savings, checking, credit card) \n",
    "#and demonstrate polymorphism by implementing a common `withdraw()` method.\n",
    "from abc import abstractclassmethod,ABC\n",
    "class bankingsystem:\n",
    "\n",
    " @abstractmethod\n",
    " def withdrawl(self):\n",
    "    pass\n",
    " \n",
    " @abstractmethod\n",
    " def deposit(self):\n",
    "   pass\n",
    " \n",
    "class saving(bankingsystem):\n",
    "  def deposit(self,am):\n",
    "    self.amount=am\n",
    "    print('successfull depoist')\n",
    "  \n",
    "  def withdrawl(self,am):\n",
    "    self.withdr=am\n",
    "    self.ans=self.am-self.withdr\n",
    "    print(f\"amount decuted {self.withdr} current balance is {self.ans}\")\n",
    "\n",
    "class checking(bankingsystem):\n",
    "  "
   ]
  },
  {
   "cell_type": "code",
   "execution_count": 36,
   "metadata": {},
   "outputs": [
    {
     "name": "stdout",
     "output_type": "stream",
     "text": [
      "hello world\n",
      "hello world\n",
      "hello world\n",
      "hello world\n",
      "hello world\n",
      "\n",
      "40\n",
      "[1, 2, 3, 1, 2, 3]\n",
      "9\n",
      "[1, 2, 3, 4, 5, 6]\n",
      "hello\tworld\n"
     ]
    }
   ],
   "source": [
    "#15. Describe the concept of operator overloading in Python and how it relates to polymorphism. Provide examples using operators like `+` and `*`\n",
    "# opreator overloading mean '+' can be used to add two interger,floating point number etc but on the flip side\n",
    "# it is used to concatinate the string,list,etc this is defined as '+' opreater overloading\n",
    "# in '*' opreator overloading it is used to multiply numeric based type but on other hand it can multiply use with a string-based statemet to  show it \n",
    "# no of time these are example of compile time polymorphism\n",
    "print(\"hello world\\n\"*5)\n",
    "print(4*10)\n",
    "print([1,2,3]*2)\n",
    "print(5+4)\n",
    "print([1,2,3]+[4,5,6])\n",
    "print(\"hello\"+\"\\tworld\")"
   ]
  },
  {
   "cell_type": "markdown",
   "metadata": {},
   "source": [
    "# 16. What is dynamic polymorphism, and how is it achieved in Python?\n",
    "dynamic polymorphism is run time polymorphism it is achieved by function overriding through abstraction and inheritence"
   ]
  },
  {
   "cell_type": "code",
   "execution_count": 38,
   "metadata": {},
   "outputs": [
    {
     "name": "stdout",
     "output_type": "stream",
     "text": [
      "name : askari post : DESIGNER salary :140000\n",
      "name : sabir post : MANGER salary :112000\n",
      "None \n",
      " None\n"
     ]
    }
   ],
   "source": [
    "# 7. Create a Python class hierarchy for employees in a company (e.g., manager, developer, designer) and implement polymorphism through a common `calculate_salary()` method.\n",
    "class company:\n",
    "    def calculate_salary(self):\n",
    "        pass\n",
    "class manger(company):\n",
    "    def __init__(self,name) -> None:\n",
    "        self.__name=name\n",
    "        self.__post=\"MANGER\"\n",
    "\n",
    "    def calculate_salary(self,hr):\n",
    "        self.__salary=hr*500*28\n",
    "\n",
    "    def show(self):\n",
    "        print(f\"name : {self.__name} post : {self.__post} salary :{self.__salary}\")\n",
    "   \n",
    "class developer(company):\n",
    "   def __init__(self,name) -> None:\n",
    "        self.__name=name\n",
    "        self.__post=\"DEVELOPER\"\n",
    "\n",
    "   def calculate_salary(self,hr):\n",
    "        self.__salary=hr*900*28\n",
    "\n",
    "   def show(self):\n",
    "        print(f\"name : {self.__name} post : {self.__post} salary :{self.__salary}\")\n",
    "\n",
    "class desginer(company):\n",
    "    def __init__(self,name) -> None:\n",
    "        self.__name=name\n",
    "        self.__post=\"DESIGNER\"\n",
    "\n",
    "    def calculate_salary(self,hr):\n",
    "        self.__salary=hr*500*28\n",
    "\n",
    "    def show(self):\n",
    "        print(f\"name : {self.__name} post : {self.__post} salary :{self.__salary}\")\n",
    "\n",
    "d1=desginer(\"askari\")\n",
    "d1.calculate_salary(10)\n",
    "m1=manger(\"sabir\")\n",
    "m1.calculate_salary(8)\n",
    "print(d1.show(),\"\\n\",m1.show())\n",
    "  "
   ]
  },
  {
   "cell_type": "code",
   "execution_count": 6,
   "metadata": {},
   "outputs": [
    {
     "name": "stdout",
     "output_type": "stream",
     "text": [
      "reptilies are both carnivores and herbivores\n",
      "birds sound!\n",
      "mamals are both carnivores and herbivores\n"
     ]
    }
   ],
   "source": [
    "# 0. Create a Python class for a zoo simulation, demonstrating polymorphism with different animal types \n",
    "#(e.g., mammals, birds, reptiles) and their behavior \n",
    "#(e.g., eating, sleeping, making sounds).\n",
    "from abc import ABC,abstractmethod\n",
    "class zoo:\n",
    " @abstractmethod\n",
    " def eating(self):\n",
    "   pass\n",
    " @abstractmethod \n",
    " def speak(self):\n",
    "    pass\n",
    " @abstractmethod\n",
    " def sleeping(self):\n",
    "    pass\n",
    "class mammals(zoo):\n",
    "    def eating(self):\n",
    "        print(\"mamals are both carnivores and herbivores\")\n",
    "\n",
    "    def speak(self):\n",
    "        print(\"mammal sound!\")\n",
    "\n",
    "    def sleeping(self):\n",
    "        print (\"mamal sleeping\")\n",
    "class birds(zoo):\n",
    "    def eating(self):\n",
    "        print(\"birds are both carnivores and herbivores\")\n",
    "\n",
    "    def speak(self):\n",
    "        print(\"birds sound!\")\n",
    "\n",
    "    def sleeping(self):\n",
    "        print (\"birds sleeping\")\n",
    "class reptiles(zoo):\n",
    "    def eating(self):\n",
    "        print(\"reptilies are both carnivores and herbivores\")\n",
    "\n",
    "    def speak(self):\n",
    "        print(\"reptilies sound!\")\n",
    "\n",
    "    def sleeping(self):\n",
    "        print (\"reptilies sleeping\")\n",
    "r1=reptiles()\n",
    "b1=birds()\n",
    "m1=mammals()\n",
    "# calling instances\n",
    "r1.eating()\n",
    "b1.speak()\n",
    "m1.eating()"
   ]
  }
 ],
 "metadata": {
  "kernelspec": {
   "display_name": "Python 3",
   "language": "python",
   "name": "python3"
  },
  "language_info": {
   "codemirror_mode": {
    "name": "ipython",
    "version": 3
   },
   "file_extension": ".py",
   "mimetype": "text/x-python",
   "name": "python",
   "nbconvert_exporter": "python",
   "pygments_lexer": "ipython3",
   "version": "3.9.6"
  }
 },
 "nbformat": 4,
 "nbformat_minor": 2
}
