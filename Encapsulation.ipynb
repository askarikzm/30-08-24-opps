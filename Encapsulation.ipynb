{
 "cells": [
  {
   "cell_type": "markdown",
   "metadata": {},
   "source": [
    "# ENCAPSULATION"
   ]
  },
  {
   "cell_type": "markdown",
   "metadata": {},
   "source": [
    "#  1. Explain the concept of encapsulation in Python. What is its role in object-oriented programming?\n",
    "encapsulation is process in which methoods procedure is hidden and only a specfic result is shown to user exp power(),type() .It has attributes of data hiding and access control. \n",
    "function"
   ]
  },
  {
   "cell_type": "markdown",
   "metadata": {},
   "source": [
    "# 2. Describe the key principles of encapsulation, including access control and data hiding.\n",
    "key principles of encapsulation are access control and data hiding\n",
    "access control:\n",
    "acces control can be defined to super class that certain methoods can be accessed by sub class by using access specifer/modifer such as public,private and protected\n",
    "data hiding is the process of hiding your data from user/sub-class to avoid data breach and to avoid changes in systems"
   ]
  },
  {
   "cell_type": "code",
   "execution_count": 10,
   "metadata": {},
   "outputs": [
    {
     "name": "stdout",
     "output_type": "stream",
     "text": [
      "32\n",
      "'encap' object has no attribute '__pow1'\n"
     ]
    }
   ],
   "source": [
    "# 3. How can you achieve encapsulation in Python classes? Provide an example.\n",
    "class encap:\n",
    "    def __init__(self,pow,pow1) -> None:\n",
    "        self.__pow=pow # private\n",
    "        self.__pow1=pow1 # private\n",
    "    \n",
    "    def ans(self):\n",
    "        return self.__pow1**self.__pow\n",
    "    \n",
    "poz=encap(5,2)\n",
    "print(poz.ans())\n",
    "try:\n",
    " poz.__pow1\n",
    "except Exception as z:\n",
    "   print(z)"
   ]
  },
  {
   "cell_type": "code",
   "execution_count": null,
   "metadata": {},
   "outputs": [],
   "source": [
    "# 4. Discuss the difference between public, private, and protected access modifiers in Python.\n",
    "# public mean methoods and attributes can be acccess inside the class and subclass and outside class\n",
    "# private mean methoods and attributes can only be accessed inside class and sub-class outside class is not possible\n",
    "# protected mean methoods and attributes it is only accessed inside main class outside and drived class is not possible "
   ]
  },
  {
   "cell_type": "code",
   "execution_count": 13,
   "metadata": {},
   "outputs": [
    {
     "name": "stdout",
     "output_type": "stream",
     "text": [
      "askari\n",
      "sabir\n",
      "None   None   None\n"
     ]
    }
   ],
   "source": [
    "# 5. Create a Python class called `Person` with a private attribute `__name`. Provide methods to get and set the name attribute.\n",
    "class person:\n",
    "    def __init__(self,name) -> None:\n",
    "        self.__name=name\n",
    "\n",
    "    def get(self):\n",
    "        print(self.__name)\n",
    "    \n",
    "    def set(self,new):\n",
    "      self.__name=new\n",
    "\n",
    "\n",
    "wow=person(\"askari\")\n",
    "print(wow.get(),\" \",wow.set(\"sabir\"),\" \",wow.get())"
   ]
  },
  {
   "cell_type": "code",
   "execution_count": 31,
   "metadata": {},
   "outputs": [
    {
     "name": "stdout",
     "output_type": "stream",
     "text": [
      "bear None wolf\n",
      "120mbs\n"
     ]
    }
   ],
   "source": [
    "# 6. Explain the purpose of getter and setter methods in encapsulation. \n",
    "#Provide examples.\n",
    "# getter to get data and setter to mainpulaite data\n",
    "class animal:\n",
    "    def __init__(self,name) -> None:\n",
    "        self.__name=name\n",
    "    \n",
    "    def setter(self,name):\n",
    "        self.__name=name\n",
    "\n",
    "    def get(self):\n",
    "        return self.__name\n",
    "    \n",
    "class wifi:\n",
    "    def __init__(self, speed):\n",
    "        self._speed = speed\n",
    "\n",
    "    @property\n",
    "    def speed(self):\n",
    "        return self._speed\n",
    "\n",
    "    @speed.setter\n",
    "    def speed(self, new_speed):\n",
    "        self._speed = new_speed\n",
    "\n",
    "\n",
    "\n",
    "bear=animal(\"bear\")\n",
    "print(bear.get(),bear.setter(\"wolf\"),bear.get(),)\n",
    "wifih=wifi(\"120mbs\")\n",
    "wifih.wifi=\"140\"\n",
    "print(wifih._speed)"
   ]
  },
  {
   "cell_type": "markdown",
   "metadata": {},
   "source": [
    "# 7. What is name mangling in Python, and how does it affect encapsulation?\n",
    "mangling is tecnique in python to ensure class attributes are properly\n",
    "encapsulated by modifying thier name with class name .This help us to\n",
    "avoiding conflicts/problems in naming classes especailly in inhertence\n"
   ]
  },
  {
   "cell_type": "code",
   "execution_count": 44,
   "metadata": {},
   "outputs": [
    {
     "name": "stdout",
     "output_type": "stream",
     "text": [
      "balance succesfully added 10500\n",
      "wrong cridentails\n"
     ]
    }
   ],
   "source": [
    "# 8. Create a Python class called `BankAccount` with private attributes for the account balance (`__balance`) and account number (`__account_number`).\n",
    "# Provide methods for depositing and withdrawing money.\n",
    "class bankAccount:\n",
    "    def __init__(self,balance,accountno) -> None:\n",
    "        self.__account_no=accountno\n",
    "        self.__balance_a=balance\n",
    " \n",
    "    def deposit(self,money,acc_no):\n",
    "        if acc_no==self.__account_no:\n",
    "         self.__balance_a+=money\n",
    "         print(\"balance succesfully added\",self.__balance_a)\n",
    "        else :\n",
    "           print(\"wrong cridentails\")\n",
    "\n",
    "    def withdrawl(self,money,acc_no):\n",
    "       try:\n",
    "        if acc_no==self.__account_no:\n",
    "         self.__balance_a-=money\n",
    "         print(\"transaction successfull\")\n",
    "        else :\n",
    "           print(\"wrong cridentails\")\n",
    "       except Exception as z:\n",
    "          print(z)\n",
    "\n",
    "askari=bankAccount(10000,232386)\n",
    "askari.deposit(500,232386)\n",
    "askari.withdrawl(500,232386)\n"
   ]
  },
  {
   "cell_type": "code",
   "execution_count": null,
   "metadata": {},
   "outputs": [],
   "source": [
    "# 9. Discuss the advantages of encapsulation in terms of code maintainability and security.\n",
    "# it is very useful while hidding the attributes of main class and safe data of it and to avoid data breach\n",
    "# it give user not a hint what is happening in the backend of our methood \n",
    "# and in term of maintailbily it can help to organize which to give access or not"
   ]
  },
  {
   "cell_type": "code",
   "execution_count": 48,
   "metadata": {},
   "outputs": [
    {
     "name": "stdout",
     "output_type": "stream",
     "text": [
      "'wow' object has no attribute '__name'\n",
      "askari\n"
     ]
    }
   ],
   "source": [
    "# 10. How can you access private attributes in Python? Provide an example demonstrating the use of name mangling.\n",
    "class wow:\n",
    "    def __init__(self) -> None:\n",
    "        self.__name=\"askari\"\n",
    "x=wow()\n",
    "try:\n",
    "    x.__name()\n",
    "except AttributeError as z:\n",
    "    print(z)\n",
    "finally :\n",
    "    print(x._wow__name)"
   ]
  },
  {
   "cell_type": "code",
   "execution_count": null,
   "metadata": {},
   "outputs": [],
   "source": [
    "# 11. Create a Python class hierarchy for a school system, \n",
    "#including classes for students, teachers, and courses, and implement encapsulation principles to protect sensitive information.\n",
    "class courses:\n",
    "    def __init__(self,course_name,no_hr) -> None:\n",
    "        self.__course_name=course_name\n",
    "        self.__no_hr=no_hr\n",
    "\n",
    "    def show_c(self):\n",
    "        print(f\"course name:{self.__course_name} and credit hour:{self.__no_hr}\")\n",
    "class student(courses):\n",
    "    def __init__(self,name,id,age,class_no) -> None:\n",
    "        self.__name=name\n",
    "        self.__id=id\n",
    "        self.__age=age\n",
    "        self.__class_no=class_no\n",
    "\n",
    "    def show_s(self):\n",
    "        print(f\"{self.name} student id {self.__id} student age {self.__age}  class no\n",
    "              {self.__class_no} \")\n",
    "        \n",
    "class teacher(courses):\n",
    "    def __init__(self,name,degree,t_id) -> None:\n",
    "        self.__name=name\n",
    "        self.__degree=degree\n",
    "        self.__t_id=t_id\n",
    "\n",
    "    def show(self):\n",
    "        print(f\"teacher name:{self.__name} , teacher degree {self.__degree} \n",
    "              and {self.__t_id}\") \n",
    "        \n",
    "class schoolsystem(teacher,student):\n",
    "    def __init__(self, name, section) -> None:\n",
    "        self.__name=name\n",
    "        self.__section=section\n",
    "\n",
    "    def access(self):\n",
    "        if self.__section==\"teacher\":\n",
    "            \n",
    "\n"
   ]
  },
  {
   "cell_type": "code",
   "execution_count": 1,
   "metadata": {},
   "outputs": [
    {
     "name": "stdout",
     "output_type": "stream",
     "text": [
      "Students:\n",
      "Student: Alice, Age: 16, ID: S001, Class: Class A\n",
      "Student: Bob, Age: 17, ID: S002, Class: Class B\n",
      "Teachers:\n",
      "Teacher: Mr. Smith, Age: 35, Degree: Ph.D., ID: T001\n",
      "Teacher: Ms. Johnson, Age: 40, Degree: M.A., ID: T002\n"
     ]
    }
   ],
   "source": [
    "# 12. Explain the concept of property decorators in Python and how they relate to encapsulation.\n",
    "class Course:\n",
    "    def __init__(self, course_name, credit_hours):\n",
    "        self.__course_name = course_name\n",
    "        self.__credit_hours = credit_hours\n",
    "\n",
    "    def show_info(self):\n",
    "        print(f\"Course Name: {self.__course_name}, Credit Hours: {self.__credit_hours}\")\n",
    "\n",
    "\n",
    "class Person:\n",
    "    def __init__(self, name, age):\n",
    "        self.__name = name\n",
    "        self.__age = age\n",
    "\n",
    "    def get_name(self):\n",
    "        return self.__name\n",
    "\n",
    "    def get_age(self):\n",
    "        return self.__age\n",
    "\n",
    "\n",
    "class Student(Person):\n",
    "    def __init__(self, name, age, student_id, class_no):\n",
    "        super().__init__(name, age)\n",
    "        self.__student_id = student_id\n",
    "        self.__class_no = class_no\n",
    "\n",
    "    def show_info(self):\n",
    "        print(f\"Student: {self.get_name()}, Age: {self.get_age()}, ID: {self.__student_id}, Class: {self.__class_no}\")\n",
    "\n",
    "\n",
    "class Teacher(Person):\n",
    "    def __init__(self, name, age, degree, teacher_id):\n",
    "        super().__init__(name, age)\n",
    "        self.__degree = degree\n",
    "        self.__teacher_id = teacher_id\n",
    "\n",
    "    def show_info(self):\n",
    "        print(f\"Teacher: {self.get_name()}, Age: {self.get_age()}, Degree: {self.__degree}, ID: {self.__teacher_id}\")\n",
    "\n",
    "\n",
    "class SchoolSystem:\n",
    "    def __init__(self, school_name):\n",
    "        self.__school_name = school_name\n",
    "        self.__students = []\n",
    "        self.__teachers = []\n",
    "\n",
    "    def add_student(self, student):\n",
    "        if isinstance(student, Student):\n",
    "            self.__students.append(student)\n",
    "        else:\n",
    "            print(\"Invalid student object.\")\n",
    "\n",
    "    def add_teacher(self, teacher):\n",
    "        if isinstance(teacher, Teacher):\n",
    "            self.__teachers.append(teacher)\n",
    "        else:\n",
    "            print(\"Invalid teacher object.\")\n",
    "\n",
    "    def show_students(self):\n",
    "        print(\"Students:\")\n",
    "        for student in self.__students:\n",
    "            student.show_info()\n",
    "\n",
    "    def show_teachers(self):\n",
    "        print(\"Teachers:\")\n",
    "        for teacher in self.__teachers:\n",
    "            teacher.show_info()\n",
    "\n",
    "\n",
    "# Example usage:\n",
    "math_course = Course(\"Math\", 4)\n",
    "english_course = Course(\"English\", 3)\n",
    "\n",
    "student1 = Student(\"Alice\", 16, \"S001\", \"Class A\")\n",
    "student2 = Student(\"Bob\", 17, \"S002\", \"Class B\")\n",
    "\n",
    "teacher1 = Teacher(\"Mr. Smith\", 35, \"Ph.D.\", \"T001\")\n",
    "teacher2 = Teacher(\"Ms. Johnson\", 40, \"M.A.\", \"T002\")\n",
    "\n",
    "school = SchoolSystem(\"XYZ School\")\n",
    "school.add_student(student1)\n",
    "school.add_student(student2)\n",
    "school.add_teacher(teacher1)\n",
    "school.add_teacher(teacher2)\n",
    "\n",
    "school.show_students()\n",
    "school.show_teachers()\n"
   ]
  },
  {
   "cell_type": "code",
   "execution_count": 7,
   "metadata": {},
   "outputs": [
    {
     "name": "stdout",
     "output_type": "stream",
     "text": [
      "hy i am inner function\n",
      "hello i am hello function\n"
     ]
    }
   ],
   "source": [
    "#12. Explain the concept of property decorators in Python and \n",
    "#how they relate to encapsulation.\n",
    "# function decerators are used to decorates certain functions with your own code they are used to avoid repetition\n",
    "# of code '@' is used for in-built func decrator\n",
    "def outter(func):\n",
    "    def inner():\n",
    "        print(\"hy i am inner function\")\n",
    "        func()\n",
    "\n",
    "    return inner\n",
    "\n",
    "\n",
    "def hello():\n",
    "    print(\"hello i am hello function\")\n",
    "\n",
    "outter(hello)()\n",
    "\n"
   ]
  },
  {
   "cell_type": "code",
   "execution_count": 10,
   "metadata": {},
   "outputs": [
    {
     "name": "stdout",
     "output_type": "stream",
     "text": [
      "'student' object has no attribute '__id'\n",
      "askari 232386\n"
     ]
    }
   ],
   "source": [
    "#13. What is data hiding, and why is it important in encapsulation? Provide examples.\n",
    "# data hiding is property of encapsulation in which access specifers can be used to\n",
    "# accessed specific methoods/attributes inside the class/sub-class/main func().\n",
    "class student:\n",
    " def __init__(self,name,id) -> None:\n",
    "  self.__name=name #attributes are now private and cannot be accessed\n",
    "  self.__id=id\n",
    "\n",
    " def show(self):\n",
    "   print(self.__name,self.__id)\n",
    "\n",
    "askari=student(\"askari\",232386)\n",
    "try:\n",
    " askari.__id\n",
    "except AttributeError as z:\n",
    " print(z)\n",
    "\n",
    "askari.show()"
   ]
  },
  {
   "cell_type": "code",
   "execution_count": 14,
   "metadata": {},
   "outputs": [
    {
     "data": {
      "text/plain": [
       "1083.3"
      ]
     },
     "execution_count": 14,
     "metadata": {},
     "output_type": "execute_result"
    }
   ],
   "source": [
    "# 14. Create a Python class called `Employee` with private attributes for salary \n",
    "#(`__salary`) and employee ID (`__employee_id`).\n",
    "#Provide a method to calculate yearly bonuses.\n",
    "class employee:\n",
    " def __init__(self,sal,id):\n",
    "  self.__salary=sal\n",
    "  self.__employee_id=id\n",
    "\n",
    " def bonus_year(self):\n",
    "  bon=self.__salary*8.33/100\n",
    "  self.__salary+=bon\n",
    "  return self.__salary\n",
    " \n",
    "\n",
    "ep1=employee(1000,23)\n",
    "ep1.bonus_year()"
   ]
  },
  {
   "cell_type": "code",
   "execution_count": 30,
   "metadata": {},
   "outputs": [
    {
     "name": "stdout",
     "output_type": "stream",
     "text": [
      "dsa\n",
      "sudh\n",
      "available\n",
      "c++\n",
      "askari\n",
      "not available\n",
      "java\n",
      "sabir\n",
      "available\n"
     ]
    }
   ],
   "source": [
    "# 17. Create a Python class for a library system that encapsulates book\n",
    "# information, including titles, authors, and availability status.\n",
    "class libaray:\n",
    "    def __init__(self,title,authors,status) -> None:\n",
    "        self.__title=title\n",
    "        self.__author=authors\n",
    "        self.__status=status\n",
    "        self.__sum=[self.__title,self.__author,self.__status]\n",
    "\n",
    "    \n",
    "    def show(self):\n",
    "        self.__l=[]\n",
    "        self.__l.append(self.__sum)\n",
    "        for i in self.__l:\n",
    "            for j in i:\n",
    "                print(j)\n",
    "\n",
    "book1=libaray(\"dsa\",\"sudh\",\"available\")\n",
    "book2=libaray(\"c++\",\"askari\",\"not available\")\n",
    "book3=libaray(\"java\",\"sabir\",\"available\")\n",
    "libaray.show(book1)\n",
    "libaray.show(book2)\n",
    "libaray.show(book3)\n"
   ]
  },
  {
   "cell_type": "markdown",
   "metadata": {},
   "source": [
    "# Accessors (Getters):\n",
    "Accessors are methods used to retrieve the values of private attributes (attributes that are not meant to be directly accessed from outside the class).\n",
    "They provide read-only access to the attributes by returning their values.\n",
    "Accessors typically have names prefixed with \"get\" followed by the attribute name.\n",
    "By using accessors, you can enforce read-only access to attributes, preventing direct modification of attribute values from outside the class.\n",
    "Accessors can include additional logic such as data validation or computation before returning the attribute value.\n",
    "# mutator(setters)\n",
    "setters are methoods used to change/update value of a private attributes(attributes not being accesed by outside claas)\n",
    "they usually start with name set followed by attribute name\n",
    "using mutator you can able to change the value of a class attributes\n"
   ]
  },
  {
   "cell_type": "markdown",
   "metadata": {},
   "source": [
    "# drawback of encapsulation\n",
    "1. complexity(relationship,poor desiginig)\n",
    "2. performance issue by accessing value via getter and setter\n",
    "3. flexibilty\n",
    "4. memory usage\n",
    "5. layer of complexity"
   ]
  },
  {
   "cell_type": "markdown",
   "metadata": {},
   "source": [
    "18. Explain how encapsulation enhances code reusability and modularity in Python programs.\n",
    "reusability mean a chunk of code can attack as a bluepint for class which can be easily used for millions of objects .object have attributes and methoods which can provide modularity to our code ,also give a nice structure to our code"
   ]
  },
  {
   "cell_type": "markdown",
   "metadata": {},
   "source": [
    " 19. Describe the concept of information hiding in encapsulation. Why is it essential in software development?\n",
    "information hiding in encapsulation mean hiding important attribute of our code to improve accesibilty based on client/user/admin.information hiding restricts access to certain parts of a software component, allowing clients to interact with it only through well-defined interfaces.\n",
    "Abstraction,Reduced Complexity,Enhanced Security are essentail for software development in terms of encapsulation"
   ]
  },
  {
   "cell_type": "code",
   "execution_count": null,
   "metadata": {},
   "outputs": [],
   "source": [
    "#20. Create a Python class called `Customer` with private attributes for customer \n",
    "#details like name, address, and contact information. \n",
    "#Implement encapsulation to ensure data integrity and security\n",
    "class customer:\n",
    "    def __init__(self,name,address,contact,passw) -> None:\n",
    "     self.__name=name\n",
    "     self.__address=address\n",
    "     self.__contact=contact\n",
    "     self.__passw=passw\n",
    "\n",
    "    def show(self,passz):\n",
    "       if self.__passw==passz:\n",
    "          print(f'{self.__name} address {self.__address} contact {self.__contact} ')\n",
    "    \n",
    "c1=customer(\"askari\",\"#h3 islamabad\",3249575300,\"ind\")\n",
    "c1.show(\"ind\")"
   ]
  }
 ],
 "metadata": {
  "kernelspec": {
   "display_name": "Python 3",
   "language": "python",
   "name": "python3"
  },
  "language_info": {
   "codemirror_mode": {
    "name": "ipython",
    "version": 3
   },
   "file_extension": ".py",
   "mimetype": "text/x-python",
   "name": "python",
   "nbconvert_exporter": "python",
   "pygments_lexer": "ipython3",
   "version": "3.9.6"
  }
 },
 "nbformat": 4,
 "nbformat_minor": 2
}
